{
  "nbformat": 4,
  "nbformat_minor": 0,
  "metadata": {
    "colab": {
      "provenance": [],
      "authorship_tag": "ABX9TyMOEBN0vGgyUv8ZVtASxwTC",
      "include_colab_link": true
    },
    "kernelspec": {
      "name": "python3",
      "display_name": "Python 3"
    },
    "language_info": {
      "name": "python"
    }
  },
  "cells": [
    {
      "cell_type": "markdown",
      "metadata": {
        "id": "view-in-github",
        "colab_type": "text"
      },
      "source": [
        "<a href=\"https://colab.research.google.com/github/xbetik/DiusAIInvoiceExtractionApp/blob/master/DiusAI_notebook.ipynb\" target=\"_parent\"><img src=\"https://colab.research.google.com/assets/colab-badge.svg\" alt=\"Open In Colab\"/></a>"
      ]
    },
    {
      "cell_type": "code",
      "execution_count": null,
      "metadata": {
        "id": "D9-9c5SyBZsO",
        "collapsed": true
      },
      "outputs": [],
      "source": [
        "!pip install torch --index-url https://download.pytorch.org/whl/cu121\n",
        "!pip install \"transformers>=4.44\" \"accelerate>=0.33\" \"huggingface_hub>=0.23\" \\\n",
        "             \"sentencepiece>=0.1.99\" \"protobuf>=3.20.2,<5\" \\\n",
        "             \"Pillow>=10.2\" \"pdf2image>=1.17\" \"safetensors>=0.4.2\""
      ]
    },
    {
      "cell_type": "code",
      "source": [
        "!apt-get install poppler-utils"
      ],
      "metadata": {
        "id": "TPUu-DQ4u4YY"
      },
      "execution_count": null,
      "outputs": []
    },
    {
      "cell_type": "code",
      "source": [
        "import os, json\n",
        "from typing import Dict, Any\n",
        "from PIL import Image\n",
        "from transformers import pipeline\n",
        "\n",
        "def normalize_amount(x: str) -> float | None:\n",
        "    if not x: return None\n",
        "    s = x.replace(\"\\u00A0\", \" \").strip().replace(\" \", \"\")\n",
        "    if \",\" in s and \".\" in s:\n",
        "        if s.rfind(\",\") > s.rfind(\".\"):\n",
        "            s = s.replace(\".\", \"\").replace(\",\", \".\")\n",
        "        else:\n",
        "            s = s.replace(\",\", \"\")\n",
        "    elif \",\" in s:\n",
        "        s = s.replace(\",\", \".\")\n",
        "    try:\n",
        "        return float(s.strip(\"EUR€$£CZKPLNCHFHUF\"))\n",
        "    except:\n",
        "        return None\n",
        "\n",
        "def normalize_record(record: Dict[str, Any]) -> Dict[str, Any]:\n",
        "    supplier = record.get(\"supplier\", {}) or {}\n",
        "    customer = record.get(\"customer\", {}) or {}\n",
        "    out = {\n",
        "        \"document_id\": record.get(\"document_id\"),\n",
        "        \"source_type\": record.get(\"source_type\"),\n",
        "        \"supplier\": {\n",
        "            \"name\": supplier.get(\"name\"),\n",
        "            \"vat_id\": supplier.get(\"vat_id\"),\n",
        "            \"ico\": supplier.get(\"ico\"),\n",
        "            \"address\": supplier.get(\"address\"),\n",
        "            \"iban\": supplier.get(\"iban\"),\n",
        "        },\n",
        "        \"customer\": {\n",
        "            \"name\": customer.get(\"name\"),\n",
        "            \"vat_id\": customer.get(\"vat_id\"),\n",
        "            \"ico\": customer.get(\"ico\"),\n",
        "            \"address\": customer.get(\"address\"),\n",
        "        },\n",
        "        \"invoice_number\": record.get(\"invoice_number\"),\n",
        "        \"issue_date\": record.get(\"issue_date\"),\n",
        "        \"due_date\": record.get(\"due_date\"),\n",
        "        \"delivery_date\": record.get(\"delivery_date\"),\n",
        "        \"currency\": record.get(\"currency\") or \"EUR\",\n",
        "        \"total_amount\": normalize_amount(record.get(\"total_amount\")),\n",
        "        \"vat_amount\": normalize_amount(record.get(\"vat_amount\")),\n",
        "        \"subtotal_amount\": normalize_amount(record.get(\"subtotal_amount\")),\n",
        "        \"payment_method\": record.get(\"payment_method\"),\n",
        "        \"lines\": record.get(\"lines\") if isinstance(record.get(\"lines\"), list) else [],\n",
        "        \"notes\": record.get(\"notes\"),\n",
        "        \"confidence\": float(record.get(\"confidence\") or 0.0),\n",
        "        \"missing_fields\": [],\n",
        "        \"status\": \"incomplete\"\n",
        "    }\n",
        "    missing = []\n",
        "    if not out[\"supplier\"].get(\"name\"): missing.append(\"supplier.name\")\n",
        "    if not out[\"customer\"].get(\"name\"): missing.append(\"customer.name\")\n",
        "    if not out[\"invoice_number\"]: missing.append(\"invoice_number\")\n",
        "    if not out[\"issue_date\"]: missing.append(\"issue_date\")\n",
        "    if out[\"total_amount\"] in (None, \"\", []): missing.append(\"total_amount\")\n",
        "    out[\"missing_fields\"] = missing\n",
        "    out[\"status\"] = \"complete\" if not missing else \"incomplete\"\n",
        "    if not record.get(\"confidence\"):\n",
        "        out[\"confidence\"] = max(0.3, 0.95 - 0.05*len(missing))\n",
        "    return out"
      ],
      "metadata": {
        "id": "bMEfmcBnBksl"
      },
      "execution_count": null,
      "outputs": []
    },
    {
      "cell_type": "code",
      "source": [
        "docvqa = pipeline(\n",
        "    \"document-question-answering\",\n",
        "    model=\"naver-clova-ix/donut-base-finetuned-docvqa\",\n",
        "    tokenizer=\"naver-clova-ix/donut-base-finetuned-docvqa\",\n",
        "    device_map=\"auto\"   # GPU if available\n",
        ")"
      ],
      "metadata": {
        "id": "eQYdJtepBm8Z"
      },
      "execution_count": null,
      "outputs": []
    },
    {
      "cell_type": "code",
      "source": [
        "# from google.colab import files\n",
        "# uploaded = files.upload()\n",
        "\n",
        "# invoice_path = list(uploaded.keys())[0]  # take first uploaded file\n",
        "# print(\"Uploaded:\", invoice_path)\n",
        "\n",
        "# # If PDF, take the first page\n",
        "# if invoice_path.lower().endswith(\".pdf\"):\n",
        "#     from pdf2image import convert_from_path\n",
        "#     pages = convert_from_path(invoice_path, dpi=200)\n",
        "#     image = pages[0]\n",
        "# else:\n",
        "#     image = Image.open(invoice_path).convert(\"RGB\")"
      ],
      "metadata": {
        "id": "Ubkr5z-zDhVO"
      },
      "execution_count": null,
      "outputs": []
    },
    {
      "cell_type": "code",
      "source": [
        "def ask(question: str) -> str:\n",
        "    res = docvqa(image=image, question=question)\n",
        "    if isinstance(res, list) and res:\n",
        "        return res[0].get(\"answer\", \"\")\n",
        "    return res.get(\"answer\", \"\")\n",
        "\n",
        "record = {\n",
        "    \"document_id\": os.path.basename(invoice_path),\n",
        "    \"source_type\": \"pdf\" if invoice_path.lower().endswith(\".pdf\") else \"image\",\n",
        "    \"supplier\": {\n",
        "        \"name\": ask(\"What is the supplier name?\"),\n",
        "        \"address\": ask(\"What is the supplier address?\"),\n",
        "    },\n",
        "    \"customer\": {\n",
        "        \"name\": ask(\"What is the customer name?\"),\n",
        "        \"address\": ask(\"What is the customer address?\"),\n",
        "    },\n",
        "    \"vat_amount\": ask(\"What is the VAT amount?\"),\n",
        "    \"total_amount\": ask(\"What is the total amount to pay?\"),\n",
        "    \"lines\": [],\n",
        "    \"notes\": None,\n",
        "    \"confidence\": 0.0,\n",
        "}\n",
        "\n",
        "normalized = normalize_record(record)"
      ],
      "metadata": {
        "id": "bafn4EQzD1Zn"
      },
      "execution_count": null,
      "outputs": []
    },
    {
      "cell_type": "code",
      "source": [
        "with open(\"invoice_ml.json\", \"w\", encoding=\"utf-8\") as f:\n",
        "    json.dump(normalized, f, indent=2, ensure_ascii=False)\n",
        "\n",
        "print(json.dumps(normalized, indent=2, ensure_ascii=False))\n",
        "files.download(\"invoice_ml.json\")"
      ],
      "metadata": {
        "id": "-OfyHv3FD2XS"
      },
      "execution_count": null,
      "outputs": []
    }
  ]
}